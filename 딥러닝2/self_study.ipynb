{
 "cells": [
  {
   "cell_type": "code",
   "execution_count": 24,
   "metadata": {
    "collapsed": true,
    "pycharm": {
     "is_executing": false
    }
   },
   "outputs": [],
   "source": [
    "import cv2\n",
    "# conda install opencv\n",
    "# pip install opencv-python\n",
    "import numpy as np\n",
    "from PIL import Image\n",
    "import os\n",
    "import csv\n",
    "import tensorflow as tf"
   ]
  },
  {
   "cell_type": "code",
   "execution_count": 17,
   "outputs": [],
   "source": [
    "def get_path_caption():\n",
    "    img_paths = []\n",
    "    captions = []\n",
    "\n",
    "    with open('..\\\\..\\\\datasets\\\\captions.csv') as csvfile:\n",
    "        csvreader = csv.reader(csvfile, delimiter='|')\n",
    "        next(csvreader)\n",
    "        for row in csvreader:\n",
    "            img_paths.append(row[0])\n",
    "            captions.append(row[2].lstrip())\n",
    "\n",
    "    return img_paths, captions"
   ],
   "metadata": {
    "collapsed": false,
    "pycharm": {
     "name": "#%%\n",
     "is_executing": false
    }
   }
  },
  {
   "cell_type": "code",
   "execution_count": 18,
   "outputs": [],
   "source": [
    "img_paths, captions = get_path_caption()"
   ],
   "metadata": {
    "collapsed": false,
    "pycharm": {
     "name": "#%%\n",
     "is_executing": false
    }
   }
  },
  {
   "cell_type": "code",
   "execution_count": 96,
   "outputs": [
    {
     "name": "stdout",
     "text": [
      "1000092795.jpg\n",
      "[[[  0   6   4]\n",
      "  [  2   6   5]\n",
      "  [  3   5   4]\n",
      "  ...\n",
      "  [219 244 249]\n",
      "  [222 253 255]\n",
      "  [221 249 250]]\n",
      "\n",
      " [[  4   8   7]\n",
      "  [  3   5   4]\n",
      "  [  5   7   6]\n",
      "  ...\n",
      "  [228 253 250]\n",
      "  [212 245 254]\n",
      "  [218 253 255]]\n",
      "\n",
      " [[  3   3   3]\n",
      "  [  4   4   4]\n",
      "  [  5   5   5]\n",
      "  ...\n",
      "  [242 255 255]\n",
      "  [232 255 251]\n",
      "  [214 245 250]]\n",
      "\n",
      " ...\n",
      "\n",
      " [[166 177 147]\n",
      "  [180 188 131]\n",
      "  [130 155 100]\n",
      "  ...\n",
      "  [106 158  86]\n",
      "  [134 172 113]\n",
      "  [107 163  72]]\n",
      "\n",
      " [[202 219 151]\n",
      "  [144 175 115]\n",
      "  [133 160 117]\n",
      "  ...\n",
      "  [157 188 129]\n",
      "  [156 186 124]\n",
      "  [157 196 117]]\n",
      "\n",
      " [[144 157  87]\n",
      "  [185 211 172]\n",
      "  [184 214 152]\n",
      "  ...\n",
      "  [156 186 122]\n",
      "  [191 200 153]\n",
      "  [106 126  65]]]\n"
     ],
     "output_type": "stream"
    }
   ],
   "source": [
    "img_name = img_paths[0]\n",
    "print(img_name)\n",
    "img = Image.open('..\\\\..\\\\datasets\\\\images\\\\' + img_name)\n",
    "\n",
    "pix = np.array(img)\n",
    "print(pix)"
   ],
   "metadata": {
    "collapsed": false,
    "pycharm": {
     "name": "#%%\n",
     "is_executing": false
    }
   }
  },
  {
   "cell_type": "code",
   "execution_count": 103,
   "outputs": [
    {
     "name": "stdout",
     "text": [
      "(333, 500)\n",
      "[103  70  25]\n",
      "RGB\n",
      "JPEG\n",
      "<class 'numpy.ndarray'>\n",
      "(500, 333, 3)\n",
      "[[[  0   6   4]\n",
      "  [  2   6   5]\n",
      "  [  3   5   4]\n",
      "  ...\n",
      "  [219 250 255]\n",
      "  [217 250 255]\n",
      "  [216 249 254]]\n",
      "\n",
      " [[216 249 254]\n",
      "  [215 250 254]\n",
      "  [216 251 255]\n",
      "  ...\n",
      "  [166 201 143]\n",
      "  [159 182 126]\n",
      "  [159 193 109]]\n",
      "\n",
      " [[206 228 156]\n",
      "  [165 193 145]\n",
      "  [161 203 183]\n",
      "  ...\n",
      "  [ 51 108   0]\n",
      "  [129 162  73]\n",
      "  [211 214 185]]\n",
      "\n",
      " ...\n",
      "\n",
      " [[  4  22   0]\n",
      "  [  9  31  10]\n",
      "  [ 29  78  33]\n",
      "  ...\n",
      "  [ 41 163 168]\n",
      "  [ 59 162 177]\n",
      "  [ 51 167 166]]\n",
      "\n",
      " [[ 67 169 174]\n",
      "  [ 75 166 184]\n",
      "  [ 67 173 187]\n",
      "  ...\n",
      "  [213 216 199]\n",
      "  [186 186 174]\n",
      "  [115 113  98]]\n",
      "\n",
      " [[141 146 124]\n",
      "  [143 136 120]\n",
      "  [150 146 135]\n",
      "  ...\n",
      "  [  3   5   2]\n",
      "  [ 32  26  26]\n",
      "  [ 30  32  21]]]\n",
      "(255, 255, 3)\n"
     ],
     "output_type": "stream"
    }
   ],
   "source": [
    "print(img.size)\n",
    "print(pix[200][200])\n",
    "print(img.mode)\n",
    "print(img.format)\n",
    "data = np.asarray(img)\n",
    "print(type(data))\n",
    "print(data.shape)\n",
    "# print(data)\n",
    "data2 = data.copy()\n",
    "data2.resize(255, 255, 3)\n",
    "# data.resize(255, 255)\n",
    "print(data2)\n",
    "print(data2.shape)"
   ],
   "metadata": {
    "collapsed": false,
    "pycharm": {
     "name": "#%%\n",
     "is_executing": false
    }
   }
  },
  {
   "cell_type": "code",
   "execution_count": 94,
   "outputs": [
    {
     "traceback": [
      "\u001b[1;31m---------------------------------------------------------------------------\u001b[0m",
      "\u001b[1;31mTypeError\u001b[0m                                 Traceback (most recent call last)",
      "\u001b[1;32m<ipython-input-94-2979346fafa2>\u001b[0m in \u001b[0;36m<module>\u001b[1;34m\u001b[0m\n\u001b[0;32m      2\u001b[0m \u001b[0minput_shape\u001b[0m \u001b[1;33m=\u001b[0m \u001b[1;33m(\u001b[0m\u001b[1;36m255\u001b[0m\u001b[1;33m,\u001b[0m \u001b[1;36m255\u001b[0m\u001b[1;33m,\u001b[0m \u001b[1;36m3\u001b[0m\u001b[1;33m)\u001b[0m\u001b[1;33m\u001b[0m\u001b[1;33m\u001b[0m\u001b[0m\n\u001b[0;32m      3\u001b[0m \u001b[0mimg_input\u001b[0m \u001b[1;33m=\u001b[0m \u001b[0mInput\u001b[0m\u001b[1;33m(\u001b[0m\u001b[0mshape\u001b[0m\u001b[1;33m=\u001b[0m\u001b[0minput_shape\u001b[0m\u001b[1;33m)\u001b[0m\u001b[1;33m\u001b[0m\u001b[1;33m\u001b[0m\u001b[0m\n\u001b[1;32m----> 4\u001b[1;33m \u001b[0mmean\u001b[0m\u001b[1;33m,\u001b[0m \u001b[0mvar\u001b[0m \u001b[1;33m=\u001b[0m \u001b[0mtf\u001b[0m\u001b[1;33m.\u001b[0m\u001b[0mnn\u001b[0m\u001b[1;33m.\u001b[0m\u001b[0mmoments\u001b[0m\u001b[1;33m(\u001b[0m\u001b[0mdata\u001b[0m\u001b[1;33m,\u001b[0m \u001b[0maxes\u001b[0m\u001b[1;33m=\u001b[0m\u001b[1;33m[\u001b[0m\u001b[1;36m0\u001b[0m\u001b[1;33m,\u001b[0m\u001b[1;36m1\u001b[0m\u001b[1;33m]\u001b[0m\u001b[1;33m)\u001b[0m\u001b[1;33m\u001b[0m\u001b[1;33m\u001b[0m\u001b[0m\n\u001b[0m\u001b[0;32m      5\u001b[0m \u001b[0mdata_2\u001b[0m \u001b[1;33m=\u001b[0m \u001b[1;33m(\u001b[0m\u001b[0mdata\u001b[0m \u001b[1;33m-\u001b[0m \u001b[0mmean\u001b[0m\u001b[1;33m)\u001b[0m \u001b[1;33m/\u001b[0m \u001b[0mvar\u001b[0m\u001b[1;33m\u001b[0m\u001b[1;33m\u001b[0m\u001b[0m\n\u001b[0;32m      6\u001b[0m \u001b[0mprint\u001b[0m\u001b[1;33m(\u001b[0m\u001b[0mdata_2\u001b[0m\u001b[1;33m)\u001b[0m\u001b[1;33m\u001b[0m\u001b[1;33m\u001b[0m\u001b[0m\n",
      "\u001b[1;32m~\\anaconda3\\envs\\AI\\lib\\site-packages\\tensorflow_core\\python\\ops\\nn_impl.py\u001b[0m in \u001b[0;36mmoments_v2\u001b[1;34m(x, axes, shift, keepdims, name)\u001b[0m\n\u001b[0;32m   1275\u001b[0m     \u001b[0mTwo\u001b[0m\u001b[0;31m \u001b[0m\u001b[0;31m`\u001b[0m\u001b[0mTensor\u001b[0m\u001b[0;31m`\u001b[0m \u001b[0mobjects\u001b[0m\u001b[1;33m:\u001b[0m\u001b[0;31m \u001b[0m\u001b[0;31m`\u001b[0m\u001b[0mmean\u001b[0m\u001b[0;31m`\u001b[0m \u001b[1;32mand\u001b[0m\u001b[0;31m \u001b[0m\u001b[0;31m`\u001b[0m\u001b[0mvariance\u001b[0m\u001b[0;31m`\u001b[0m\u001b[1;33m.\u001b[0m\u001b[1;33m\u001b[0m\u001b[1;33m\u001b[0m\u001b[0m\n\u001b[0;32m   1276\u001b[0m   \"\"\"\n\u001b[1;32m-> 1277\u001b[1;33m   \u001b[1;32mreturn\u001b[0m \u001b[0mmoments\u001b[0m\u001b[1;33m(\u001b[0m\u001b[0mx\u001b[0m\u001b[1;33m=\u001b[0m\u001b[0mx\u001b[0m\u001b[1;33m,\u001b[0m \u001b[0maxes\u001b[0m\u001b[1;33m=\u001b[0m\u001b[0maxes\u001b[0m\u001b[1;33m,\u001b[0m \u001b[0mshift\u001b[0m\u001b[1;33m=\u001b[0m\u001b[0mshift\u001b[0m\u001b[1;33m,\u001b[0m \u001b[0mname\u001b[0m\u001b[1;33m=\u001b[0m\u001b[0mname\u001b[0m\u001b[1;33m,\u001b[0m \u001b[0mkeep_dims\u001b[0m\u001b[1;33m=\u001b[0m\u001b[0mkeepdims\u001b[0m\u001b[1;33m)\u001b[0m\u001b[1;33m\u001b[0m\u001b[1;33m\u001b[0m\u001b[0m\n\u001b[0m\u001b[0;32m   1278\u001b[0m \u001b[1;33m\u001b[0m\u001b[0m\n\u001b[0;32m   1279\u001b[0m \u001b[1;33m\u001b[0m\u001b[0m\n",
      "\u001b[1;32m~\\anaconda3\\envs\\AI\\lib\\site-packages\\tensorflow_core\\python\\ops\\nn_impl.py\u001b[0m in \u001b[0;36mmoments\u001b[1;34m(x, axes, shift, name, keep_dims, keepdims)\u001b[0m\n\u001b[0;32m   1220\u001b[0m     \u001b[1;31m# sufficient statistics. As a workaround we simply perform the operations\u001b[0m\u001b[1;33m\u001b[0m\u001b[1;33m\u001b[0m\u001b[1;33m\u001b[0m\u001b[0m\n\u001b[0;32m   1221\u001b[0m     \u001b[1;31m# on 32-bit floats before converting the mean and variance back to fp16\u001b[0m\u001b[1;33m\u001b[0m\u001b[1;33m\u001b[0m\u001b[1;33m\u001b[0m\u001b[0m\n\u001b[1;32m-> 1222\u001b[1;33m     \u001b[0my\u001b[0m \u001b[1;33m=\u001b[0m \u001b[0mmath_ops\u001b[0m\u001b[1;33m.\u001b[0m\u001b[0mcast\u001b[0m\u001b[1;33m(\u001b[0m\u001b[0mx\u001b[0m\u001b[1;33m,\u001b[0m \u001b[0mdtypes\u001b[0m\u001b[1;33m.\u001b[0m\u001b[0mfloat32\u001b[0m\u001b[1;33m)\u001b[0m \u001b[1;32mif\u001b[0m \u001b[0mx\u001b[0m\u001b[1;33m.\u001b[0m\u001b[0mdtype\u001b[0m \u001b[1;33m==\u001b[0m \u001b[0mdtypes\u001b[0m\u001b[1;33m.\u001b[0m\u001b[0mfloat16\u001b[0m \u001b[1;32melse\u001b[0m \u001b[0mx\u001b[0m\u001b[1;33m\u001b[0m\u001b[1;33m\u001b[0m\u001b[0m\n\u001b[0m\u001b[0;32m   1223\u001b[0m     \u001b[1;31m# Compute true mean while keeping the dims for proper broadcasting.\u001b[0m\u001b[1;33m\u001b[0m\u001b[1;33m\u001b[0m\u001b[1;33m\u001b[0m\u001b[0m\n\u001b[0;32m   1224\u001b[0m     \u001b[0mmean\u001b[0m \u001b[1;33m=\u001b[0m \u001b[0mmath_ops\u001b[0m\u001b[1;33m.\u001b[0m\u001b[0mreduce_mean\u001b[0m\u001b[1;33m(\u001b[0m\u001b[0my\u001b[0m\u001b[1;33m,\u001b[0m \u001b[0maxes\u001b[0m\u001b[1;33m,\u001b[0m \u001b[0mkeepdims\u001b[0m\u001b[1;33m=\u001b[0m\u001b[1;32mTrue\u001b[0m\u001b[1;33m,\u001b[0m \u001b[0mname\u001b[0m\u001b[1;33m=\u001b[0m\u001b[1;34m\"mean\"\u001b[0m\u001b[1;33m)\u001b[0m\u001b[1;33m\u001b[0m\u001b[1;33m\u001b[0m\u001b[0m\n",
      "\u001b[1;31mTypeError\u001b[0m: data type not understood"
     ],
     "ename": "TypeError",
     "evalue": "data type not understood",
     "output_type": "error"
    }
   ],
   "source": [
    "from tensorflow.keras.layers import Input\n",
    "input_shape = (255, 255, 3)\n",
    "img_input = Input(shape=input_shape)\n",
    "mean, var = tf.nn.moments(data, axes=[0,1])"
   ],
   "metadata": {
    "collapsed": false,
    "pycharm": {
     "name": "#%%\n",
     "is_executing": false
    }
   }
  },
  {
   "cell_type": "code",
   "execution_count": 93,
   "outputs": [],
   "source": [
    "dataset = img_paths[:10]\n",
    "\n",
    "def normalize(x, y):\n",
    "    x = tf.image.per_image_standardization(x)\n",
    "    return x, y"
   ],
   "metadata": {
    "collapsed": false,
    "pycharm": {
     "name": "#%%\n",
     "is_executing": false
    }
   }
  },
  {
   "cell_type": "code",
   "execution_count": null,
   "outputs": [],
   "source": [
    "from tensorflow.keras.layers import Input\n",
    "\n",
    "input_shape = (255, 255, 3)\n",
    "img_input = Input(shape=input_shape)"
   ],
   "metadata": {
    "collapsed": false,
    "pycharm": {
     "name": "#%%\n"
    }
   }
  },
  {
   "cell_type": "code",
   "execution_count": 108,
   "outputs": [
    {
     "name": "stdout",
     "text": [
      "90.62686658977316 5183.643783120353\n",
      "90.62686658977316 5183.643783120353\n",
      "90.62686658977316 5183.643783120353\n",
      "90.62686658977316 5183.643783120353\n",
      "90.62686658977316 5183.643783120353\n",
      "151.3923106497501 5225.930572682172\n",
      "151.3923106497501 5225.930572682172\n",
      "151.3923106497501 5225.930572682172\n",
      "151.3923106497501 5225.930572682172\n",
      "151.3923106497501 5225.930572682172\n"
     ],
     "output_type": "stream"
    }
   ],
   "source": [
    "path = '..\\\\..\\\\datasets\\\\images\\\\'\n",
    "img_path = img_paths[:10]\n",
    "images = []\n",
    "for f in img_path:\n",
    "    img = Image.open(path + f)\n",
    "    resize_img = img.resize((255, 255))\n",
    "    image = np.asarray(resize_img)\n",
    "    mean = np.mean(image, axis=(0, 1, 2))\n",
    "    var = np.var(image, axis=(0, 1, 2))\n",
    "    print(mean, var)\n",
    "    image2 = ((image[0, 1] - mean) / var)\n",
    "    # print(image2)\n",
    "\n",
    "# images = np.asarray(images)"
   ],
   "metadata": {
    "collapsed": false,
    "pycharm": {
     "name": "#%%\n",
     "is_executing": false
    }
   }
  },
  {
   "cell_type": "code",
   "execution_count": 115,
   "outputs": [
    {
     "name": "stdout",
     "text": [
      "[[[ 1  2  3]\n",
      "  [ 4  5  6]]\n",
      "\n",
      " [[11 12 13]\n",
      "  [14 15 16]]]\n",
      "(2, 2, 3)\n",
      "arr.sum(axis=1)\n",
      "[[ 5  7  9]\n",
      " [25 27 29]]\n",
      "arr.sum(axis=0\n",
      "[[12 14 16]\n",
      " [18 20 22]]\n"
     ],
     "output_type": "stream"
    }
   ],
   "source": [
    "arr = np.array(\n",
    "    [\n",
    "        [\n",
    "            [1, 2, 3],\n",
    "            [4, 5, 6]\n",
    "        ],\n",
    "        [\n",
    "            [11, 12, 13],\n",
    "            [14, 15, 16]\n",
    "        ]\n",
    "    ]\n",
    ")\n",
    "\n",
    "print(arr)\n",
    "print(arr.shape)"
   ],
   "metadata": {
    "collapsed": false,
    "pycharm": {
     "name": "#%%\n",
     "is_executing": false
    }
   }
  },
  {
   "cell_type": "code",
   "execution_count": 125,
   "outputs": [
    {
     "name": "stdout",
     "text": [
      "arr.sum(axis=1)\n",
      "[[ 5  7  9]\n",
      " [25 27 29]]\n",
      "arr.sum(axis=0)\n",
      "[[12 14 16]\n",
      " [18 20 22]]\n",
      "arr.sum(axis=2)\n",
      "[[ 6 15]\n",
      " [36 45]]\n"
     ],
     "output_type": "stream"
    }
   ],
   "source": [
    "print('arr.sum(axis=1)')\n",
    "print(arr.sum(axis=1))\n",
    "print('arr.sum(axis=0)')\n",
    "print(arr.sum(axis=0))\n",
    "print('arr.sum(axis=2)')\n",
    "print(arr.sum(axis=2))"
   ],
   "metadata": {
    "collapsed": false,
    "pycharm": {
     "name": "#%%\n",
     "is_executing": false
    }
   }
  },
  {
   "cell_type": "code",
   "execution_count": 127,
   "outputs": [
    {
     "name": "stdout",
     "text": [
      "arr.sum(axis=(0, 0))\n",
      "[30 34 38]\n",
      "arr.mean(axis=(0, 1))\n",
      "[7.5 8.5 9.5]\n"
     ],
     "output_type": "stream"
    }
   ],
   "source": [
    "print('arr.sum(axis=(0, 0))')\n",
    "print(arr.sum(axis=(0, 1)))\n",
    "print('arr.mean(axis=(0, 1))')\n",
    "print(arr.mean(axis=(0, 1)))"
   ],
   "metadata": {
    "collapsed": false,
    "pycharm": {
     "name": "#%%\n",
     "is_executing": false
    }
   }
  }
 ],
 "metadata": {
  "kernelspec": {
   "display_name": "Python 3",
   "language": "python",
   "name": "python3"
  },
  "language_info": {
   "codemirror_mode": {
    "name": "ipython",
    "version": 2
   },
   "file_extension": ".py",
   "mimetype": "text/x-python",
   "name": "python",
   "nbconvert_exporter": "python",
   "pygments_lexer": "ipython2",
   "version": "2.7.6"
  },
  "pycharm": {
   "stem_cell": {
    "cell_type": "raw",
    "source": [],
    "metadata": {
     "collapsed": false
    }
   }
  }
 },
 "nbformat": 4,
 "nbformat_minor": 0
}